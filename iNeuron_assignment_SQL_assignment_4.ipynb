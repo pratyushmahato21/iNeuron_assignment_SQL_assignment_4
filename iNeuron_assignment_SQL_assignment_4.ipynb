{
 "cells": [
  {
   "cell_type": "markdown",
   "id": "c251f3cf",
   "metadata": {},
   "source": [
    "Q-1. Write an SQL query to print the FIRST_NAME from Worker table after replacing ‘a’ with ‘A’."
   ]
  },
  {
   "cell_type": "markdown",
   "id": "54e8c59c",
   "metadata": {},
   "source": [
    "SELECT REPLACE(first_name, 'a', 'A') FROM WORKER;"
   ]
  },
  {
   "cell_type": "markdown",
   "id": "5ba7e3d6",
   "metadata": {},
   "source": [
    "Q-2. Write an SQL query to print all Worker details from the Worker table order by FIRST_NAME Ascending and DEPARTMENT Descending."
   ]
  },
  {
   "cell_type": "markdown",
   "id": "09b609bb",
   "metadata": {},
   "source": [
    "SELECT emp_no, full_name, first_name, last_name, department, salary \n",
    "FROM WORKER\n",
    "ORDER BY first_name, department DESC;"
   ]
  },
  {
   "cell_type": "markdown",
   "id": "d62243ed",
   "metadata": {},
   "source": [
    "Q-3. Write an SQL query to fetch the names of workers who earn the highest salary."
   ]
  },
  {
   "cell_type": "markdown",
   "id": "f0ffe573",
   "metadata": {},
   "source": [
    "SELECT emp_no, salary\n",
    "FROM WORKER\n",
    "WHERE salary = (SELECT MAX(salary) FROM WORKER);"
   ]
  },
  {
   "cell_type": "code",
   "execution_count": null,
   "id": "213c2963",
   "metadata": {},
   "outputs": [],
   "source": []
  }
 ],
 "metadata": {
  "kernelspec": {
   "display_name": "Python 3 (ipykernel)",
   "language": "python",
   "name": "python3"
  },
  "language_info": {
   "codemirror_mode": {
    "name": "ipython",
    "version": 3
   },
   "file_extension": ".py",
   "mimetype": "text/x-python",
   "name": "python",
   "nbconvert_exporter": "python",
   "pygments_lexer": "ipython3",
   "version": "3.8.12"
  }
 },
 "nbformat": 4,
 "nbformat_minor": 5
}
